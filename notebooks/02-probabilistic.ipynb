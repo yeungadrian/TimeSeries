{
 "cells": [
  {
   "cell_type": "code",
   "execution_count": null,
   "metadata": {},
   "outputs": [],
   "source": [
    "import altair as alt\n",
    "import numpy as np\n",
    "from sktime.datasets import load_airline\n",
    "from sktime.forecasting.naive import NaiveForecaster"
   ]
  },
  {
   "cell_type": "code",
   "execution_count": null,
   "metadata": {},
   "outputs": [],
   "source": [
    "y = load_airline()\n",
    "data = y.reset_index()\n",
    "data[\"Period\"] = [i.to_timestamp() for i in data[\"Period\"]]\n",
    "data[\"type\"] = \"historical\"\n",
    "\n",
    "# step 2: specifying forecasting horizon\n",
    "fh = np.arange(1, 37)\n",
    "# step 3: specifying the forecasting algorithm\n",
    "forecaster = NaiveForecaster(strategy=\"last\", sp=12)\n",
    "# step 4: fitting the forecaster\n",
    "forecaster.fit(y)\n",
    "# step 5: querying predictions\n",
    "y_pred = forecaster.predict(fh)\n",
    "coverages = [0.95]\n",
    "y_pred_int = forecaster.predict_interval(coverage=coverages)"
   ]
  },
  {
   "cell_type": "code",
   "execution_count": null,
   "metadata": {},
   "outputs": [],
   "source": [
    "y_pred_int.columns = [x for i in coverages for x in [f\"{i}_lower\", f\"{i}_upper\"]]"
   ]
  },
  {
   "cell_type": "code",
   "execution_count": null,
   "metadata": {},
   "outputs": [],
   "source": [
    "data_h = y.reset_index()\n",
    "data_h[\"Period\"] = [i.to_timestamp() for i in data_h[\"Period\"]]\n",
    "data_h = data_h.melt(id_vars=\"Period\")"
   ]
  },
  {
   "cell_type": "code",
   "execution_count": null,
   "metadata": {},
   "outputs": [],
   "source": [
    "data = y_pred_int.reset_index()\n",
    "data[\"index\"] = [i.to_timestamp() for i in data[\"index\"]]\n",
    "data = data.rename(columns={\"index\": \"Period\"})"
   ]
  },
  {
   "cell_type": "code",
   "execution_count": null,
   "metadata": {},
   "outputs": [],
   "source": [
    "y_pred_int"
   ]
  },
  {
   "cell_type": "code",
   "execution_count": null,
   "metadata": {},
   "outputs": [],
   "source": [
    "data = data.melt(id_vars=\"Period\")"
   ]
  },
  {
   "cell_type": "code",
   "execution_count": null,
   "metadata": {},
   "outputs": [],
   "source": [
    "line = (\n",
    "    alt.Chart(data_h)\n",
    "    .mark_line(point=True)\n",
    "    .encode(x=\"Period\", y=\"value\", color=\"variable\")\n",
    "    .properties(\n",
    "        width=800,\n",
    "    )\n",
    ")"
   ]
  },
  {
   "cell_type": "code",
   "execution_count": null,
   "metadata": {},
   "outputs": [],
   "source": [
    "data"
   ]
  },
  {
   "cell_type": "code",
   "execution_count": null,
   "metadata": {},
   "outputs": [],
   "source": [
    "area = alt.Chart(data).mark_area(opacity=0.3).encode(x=\"Period\", y=alt.Y(\"value\").stack(None), color=\"variable\")"
   ]
  },
  {
   "cell_type": "code",
   "execution_count": null,
   "metadata": {},
   "outputs": [],
   "source": [
    "line + area"
   ]
  }
 ],
 "metadata": {
  "kernelspec": {
   "display_name": "timeseries-cCrEoJcH-py3.11",
   "language": "python",
   "name": "python3"
  },
  "language_info": {
   "codemirror_mode": {
    "name": "ipython",
    "version": 3
   },
   "file_extension": ".py",
   "mimetype": "text/x-python",
   "name": "python",
   "nbconvert_exporter": "python",
   "pygments_lexer": "ipython3"
  }
 },
 "nbformat": 4,
 "nbformat_minor": 2
}
